{
 "cells": [
  {
   "cell_type": "code",
   "execution_count": 1,
   "metadata": {},
   "outputs": [],
   "source": [
    "import pandas as pd"
   ]
  },
  {
   "cell_type": "code",
   "execution_count": 2,
   "metadata": {},
   "outputs": [],
   "source": [
    "file_name = '/Users/trongnguyen/Dropbox/FattyLiver/results/injection_level.xlsx'"
   ]
  },
  {
   "cell_type": "code",
   "execution_count": 3,
   "metadata": {},
   "outputs": [],
   "source": [
    "xl = pd.ExcelFile(file_name)"
   ]
  },
  {
   "cell_type": "markdown",
   "metadata": {},
   "source": [
    "# Olive oil injection"
   ]
  },
  {
   "cell_type": "code",
   "execution_count": 4,
   "metadata": {},
   "outputs": [],
   "source": [
    "df1 = xl.parse(sheetname='CCL4-Olive Oil Doses')"
   ]
  },
  {
   "cell_type": "code",
   "execution_count": 5,
   "metadata": {},
   "outputs": [
    {
     "data": {
      "text/plain": [
       "Index(['Week 1', 'Unnamed: 1', 'Week 2', 'Unnamed: 3', 'Week 3', 'Unnamed: 5',\n",
       "       'Week 4', 'Unnamed: 7', 'Week 5', 'Unnamed: 9', 'Week 6', 'Unnamed: 11',\n",
       "       'Week 7', 'Unnamed: 13', 'Week 8', 'Unnamed: 15', 'Week 9',\n",
       "       'Unnamed: 17', 'Week 10', 'Unnamed: 19', 'Week 11', 'Unnamed: 21',\n",
       "       'Week 12', 'Unnamed: 23'],\n",
       "      dtype='object')"
      ]
     },
     "execution_count": 5,
     "metadata": {},
     "output_type": "execute_result"
    }
   ],
   "source": [
    "df1.columns"
   ]
  },
  {
   "cell_type": "code",
   "execution_count": 6,
   "metadata": {},
   "outputs": [],
   "source": [
    "df1.drop(df1.columns[[1,2]],axis = 1, inplace = True)"
   ]
  },
  {
   "cell_type": "code",
   "execution_count": 7,
   "metadata": {},
   "outputs": [],
   "source": [
    "df2 = df1.reset_index(level=[1,2])"
   ]
  },
  {
   "cell_type": "code",
   "execution_count": 8,
   "metadata": {},
   "outputs": [],
   "source": [
    "df3 = df2.iloc[1:, 3:-1:2]"
   ]
  },
  {
   "cell_type": "code",
   "execution_count": 9,
   "metadata": {},
   "outputs": [],
   "source": [
    "df4 = df3.fillna(0)"
   ]
  },
  {
   "cell_type": "code",
   "execution_count": 10,
   "metadata": {},
   "outputs": [],
   "source": [
    "df_o = df4.sum(axis = 1)"
   ]
  },
  {
   "cell_type": "markdown",
   "metadata": {},
   "source": [
    "# Corn oil injection"
   ]
  },
  {
   "cell_type": "code",
   "execution_count": 11,
   "metadata": {},
   "outputs": [],
   "source": [
    "df_c = xl.parse(sheetname='CCL4-Corn Oil Doses', header = 1)"
   ]
  },
  {
   "cell_type": "code",
   "execution_count": 12,
   "metadata": {},
   "outputs": [
    {
     "data": {
      "text/plain": [
       "Index(['BRL Animal ID', 'Injection Level of CCL4:Olive Oil', 'Unnamed: 2',\n",
       "       'Weights', 'Actual Amount Given of CCL4:Olive Oil (mL)', 'Weights.1',\n",
       "       'Actual Amount Given of CCL4:Olive Oil (mL).1', 'Weights.2',\n",
       "       'Actual Amount Given of CCL4:Olive Oil (mL).2', 'Weights.3',\n",
       "       'Actual Amount Given of CCL4:Olive Oil (mL).3', 'Weights.4',\n",
       "       'Actual Amount Given of CCL4:Olive Oil (mL).4', 'Weights.5',\n",
       "       'Actual Amount Given of CCL4:Olive Oil (mL).5', 'Weights.6',\n",
       "       'Actual Amount Given of CCL4:Olive Oil (mL).6', 'Weights.7',\n",
       "       'Actual Amount Given of CCL4:Olive Oil (mL).7'],\n",
       "      dtype='object')"
      ]
     },
     "execution_count": 12,
     "metadata": {},
     "output_type": "execute_result"
    }
   ],
   "source": [
    "df_c.columns"
   ]
  },
  {
   "cell_type": "code",
   "execution_count": 13,
   "metadata": {},
   "outputs": [],
   "source": [
    "df_c = df_c.drop('Unnamed: 2', axis = 1)"
   ]
  },
  {
   "cell_type": "code",
   "execution_count": 14,
   "metadata": {},
   "outputs": [],
   "source": [
    "df_c = df_c.dropna()"
   ]
  },
  {
   "cell_type": "code",
   "execution_count": 15,
   "metadata": {},
   "outputs": [],
   "source": [
    "df_c.columns = ['ID', 'Level', 'Weights1','Inj1', 'Weights2','Inj2', 'Weights3','Inj3',\\\n",
    "              'Weights4','Inj4', 'Weights5','Inj5', 'Weights6','Inj6', 'Weights7','Inj7', \\\n",
    "              'Weights8','Inj8']"
   ]
  },
  {
   "cell_type": "code",
   "execution_count": 16,
   "metadata": {},
   "outputs": [
    {
     "data": {
      "text/html": [
       "<div>\n",
       "<style>\n",
       "    .dataframe thead tr:only-child th {\n",
       "        text-align: right;\n",
       "    }\n",
       "\n",
       "    .dataframe thead th {\n",
       "        text-align: left;\n",
       "    }\n",
       "\n",
       "    .dataframe tbody tr th {\n",
       "        vertical-align: top;\n",
       "    }\n",
       "</style>\n",
       "<table border=\"1\" class=\"dataframe\">\n",
       "  <thead>\n",
       "    <tr style=\"text-align: right;\">\n",
       "      <th></th>\n",
       "      <th>ID</th>\n",
       "      <th>Level</th>\n",
       "      <th>Weights1</th>\n",
       "      <th>Inj1</th>\n",
       "      <th>Weights2</th>\n",
       "      <th>Inj2</th>\n",
       "      <th>Weights3</th>\n",
       "      <th>Inj3</th>\n",
       "      <th>Weights4</th>\n",
       "      <th>Inj4</th>\n",
       "      <th>Weights5</th>\n",
       "      <th>Inj5</th>\n",
       "      <th>Weights6</th>\n",
       "      <th>Inj6</th>\n",
       "      <th>Weights7</th>\n",
       "      <th>Inj7</th>\n",
       "      <th>Weights8</th>\n",
       "      <th>Inj8</th>\n",
       "    </tr>\n",
       "  </thead>\n",
       "  <tbody>\n",
       "    <tr>\n",
       "      <th>0</th>\n",
       "      <td>L759</td>\n",
       "      <td>1.0</td>\n",
       "      <td>3.012</td>\n",
       "      <td>0.16</td>\n",
       "      <td>2.994</td>\n",
       "      <td>0.15</td>\n",
       "      <td>2.972</td>\n",
       "      <td>0.15</td>\n",
       "      <td>2.990</td>\n",
       "      <td>0.15</td>\n",
       "      <td>3.024</td>\n",
       "      <td>0.16</td>\n",
       "      <td>3.018</td>\n",
       "      <td>0.15563</td>\n",
       "      <td>3.074</td>\n",
       "      <td>0.15759</td>\n",
       "      <td>3.130</td>\n",
       "      <td>0.15955</td>\n",
       "    </tr>\n",
       "    <tr>\n",
       "      <th>1</th>\n",
       "      <td>L760</td>\n",
       "      <td>2.0</td>\n",
       "      <td>3.080</td>\n",
       "      <td>0.27</td>\n",
       "      <td>3.086</td>\n",
       "      <td>0.27</td>\n",
       "      <td>3.104</td>\n",
       "      <td>0.27</td>\n",
       "      <td>3.140</td>\n",
       "      <td>0.27</td>\n",
       "      <td>3.116</td>\n",
       "      <td>0.27</td>\n",
       "      <td>3.154</td>\n",
       "      <td>0.27078</td>\n",
       "      <td>3.184</td>\n",
       "      <td>0.27288</td>\n",
       "      <td>3.236</td>\n",
       "      <td>0.27652</td>\n",
       "    </tr>\n",
       "    <tr>\n",
       "      <th>2</th>\n",
       "      <td>L761</td>\n",
       "      <td>1.0</td>\n",
       "      <td>3.096</td>\n",
       "      <td>0.16</td>\n",
       "      <td>3.076</td>\n",
       "      <td>0.16</td>\n",
       "      <td>3.048</td>\n",
       "      <td>0.16</td>\n",
       "      <td>2.994</td>\n",
       "      <td>0.15</td>\n",
       "      <td>2.982</td>\n",
       "      <td>0.15</td>\n",
       "      <td>3.032</td>\n",
       "      <td>0.15612</td>\n",
       "      <td>3.102</td>\n",
       "      <td>0.15857</td>\n",
       "      <td>3.080</td>\n",
       "      <td>0.15780</td>\n",
       "    </tr>\n",
       "    <tr>\n",
       "      <th>3</th>\n",
       "      <td>L762</td>\n",
       "      <td>2.0</td>\n",
       "      <td>3.424</td>\n",
       "      <td>0.29</td>\n",
       "      <td>3.370</td>\n",
       "      <td>0.29</td>\n",
       "      <td>3.284</td>\n",
       "      <td>0.28</td>\n",
       "      <td>3.290</td>\n",
       "      <td>0.28</td>\n",
       "      <td>3.312</td>\n",
       "      <td>0.28</td>\n",
       "      <td>3.338</td>\n",
       "      <td>0.28366</td>\n",
       "      <td>3.422</td>\n",
       "      <td>0.28954</td>\n",
       "      <td>3.218</td>\n",
       "      <td>0.27526</td>\n",
       "    </tr>\n",
       "    <tr>\n",
       "      <th>4</th>\n",
       "      <td>L763</td>\n",
       "      <td>1.0</td>\n",
       "      <td>3.046</td>\n",
       "      <td>0.16</td>\n",
       "      <td>3.020</td>\n",
       "      <td>0.16</td>\n",
       "      <td>2.996</td>\n",
       "      <td>0.15</td>\n",
       "      <td>2.956</td>\n",
       "      <td>0.15</td>\n",
       "      <td>2.928</td>\n",
       "      <td>0.15</td>\n",
       "      <td>2.880</td>\n",
       "      <td>0.15080</td>\n",
       "      <td>2.744</td>\n",
       "      <td>0.14604</td>\n",
       "      <td>2.848</td>\n",
       "      <td>0.14968</td>\n",
       "    </tr>\n",
       "  </tbody>\n",
       "</table>\n",
       "</div>"
      ],
      "text/plain": [
       "     ID  Level  Weights1  Inj1  Weights2  Inj2  Weights3  Inj3  Weights4  \\\n",
       "0  L759    1.0     3.012  0.16     2.994  0.15     2.972  0.15     2.990   \n",
       "1  L760    2.0     3.080  0.27     3.086  0.27     3.104  0.27     3.140   \n",
       "2  L761    1.0     3.096  0.16     3.076  0.16     3.048  0.16     2.994   \n",
       "3  L762    2.0     3.424  0.29     3.370  0.29     3.284  0.28     3.290   \n",
       "4  L763    1.0     3.046  0.16     3.020  0.16     2.996  0.15     2.956   \n",
       "\n",
       "   Inj4  Weights5  Inj5  Weights6     Inj6  Weights7     Inj7  Weights8  \\\n",
       "0  0.15     3.024  0.16     3.018  0.15563     3.074  0.15759     3.130   \n",
       "1  0.27     3.116  0.27     3.154  0.27078     3.184  0.27288     3.236   \n",
       "2  0.15     2.982  0.15     3.032  0.15612     3.102  0.15857     3.080   \n",
       "3  0.28     3.312  0.28     3.338  0.28366     3.422  0.28954     3.218   \n",
       "4  0.15     2.928  0.15     2.880  0.15080     2.744  0.14604     2.848   \n",
       "\n",
       "      Inj8  \n",
       "0  0.15955  \n",
       "1  0.27652  \n",
       "2  0.15780  \n",
       "3  0.27526  \n",
       "4  0.14968  "
      ]
     },
     "execution_count": 16,
     "metadata": {},
     "output_type": "execute_result"
    }
   ],
   "source": [
    "df_c.head()"
   ]
  },
  {
   "cell_type": "code",
   "execution_count": 17,
   "metadata": {},
   "outputs": [],
   "source": [
    "injected_amount  = df_c.iloc[:,3:18:2].sum(axis = 1)"
   ]
  },
  {
   "cell_type": "code",
   "execution_count": 18,
   "metadata": {},
   "outputs": [],
   "source": [
    "df_c1 = pd.concat([df_c.ID, injected_amount], axis=1)"
   ]
  },
  {
   "cell_type": "code",
   "execution_count": 19,
   "metadata": {},
   "outputs": [],
   "source": [
    "df_c2 = df_c1.set_index('ID')"
   ]
  },
  {
   "cell_type": "code",
   "execution_count": 20,
   "metadata": {},
   "outputs": [
    {
     "data": {
      "text/html": [
       "<div>\n",
       "<style>\n",
       "    .dataframe thead tr:only-child th {\n",
       "        text-align: right;\n",
       "    }\n",
       "\n",
       "    .dataframe thead th {\n",
       "        text-align: left;\n",
       "    }\n",
       "\n",
       "    .dataframe tbody tr th {\n",
       "        vertical-align: top;\n",
       "    }\n",
       "</style>\n",
       "<table border=\"1\" class=\"dataframe\">\n",
       "  <thead>\n",
       "    <tr style=\"text-align: right;\">\n",
       "      <th></th>\n",
       "      <th>0</th>\n",
       "    </tr>\n",
       "    <tr>\n",
       "      <th>ID</th>\n",
       "      <th></th>\n",
       "    </tr>\n",
       "  </thead>\n",
       "  <tbody>\n",
       "    <tr>\n",
       "      <th>L759</th>\n",
       "      <td>1.24277</td>\n",
       "    </tr>\n",
       "    <tr>\n",
       "      <th>L760</th>\n",
       "      <td>2.17018</td>\n",
       "    </tr>\n",
       "    <tr>\n",
       "      <th>L761</th>\n",
       "      <td>1.25249</td>\n",
       "    </tr>\n",
       "    <tr>\n",
       "      <th>L762</th>\n",
       "      <td>2.26846</td>\n",
       "    </tr>\n",
       "    <tr>\n",
       "      <th>L763</th>\n",
       "      <td>1.21652</td>\n",
       "    </tr>\n",
       "  </tbody>\n",
       "</table>\n",
       "</div>"
      ],
      "text/plain": [
       "            0\n",
       "ID           \n",
       "L759  1.24277\n",
       "L760  2.17018\n",
       "L761  1.25249\n",
       "L762  2.26846\n",
       "L763  1.21652"
      ]
     },
     "execution_count": 20,
     "metadata": {},
     "output_type": "execute_result"
    }
   ],
   "source": [
    "df_c2.head()"
   ]
  },
  {
   "cell_type": "code",
   "execution_count": 21,
   "metadata": {},
   "outputs": [],
   "source": [
    "injection_level = pd.concat([df_c2, df_o])"
   ]
  },
  {
   "cell_type": "code",
   "execution_count": 22,
   "metadata": {},
   "outputs": [],
   "source": [
    "injection_level.to_csv('injection_ml_1.csv', sep = '\\t')"
   ]
  },
  {
   "cell_type": "code",
   "execution_count": null,
   "metadata": {},
   "outputs": [],
   "source": []
  }
 ],
 "metadata": {
  "kernelspec": {
   "display_name": "Python 3",
   "language": "python",
   "name": "python3"
  },
  "language_info": {
   "codemirror_mode": {
    "name": "ipython",
    "version": 3
   },
   "file_extension": ".py",
   "mimetype": "text/x-python",
   "name": "python",
   "nbconvert_exporter": "python",
   "pygments_lexer": "ipython3",
   "version": "3.6.5"
  },
  "toc": {
   "base_numbering": 1,
   "nav_menu": {},
   "number_sections": true,
   "sideBar": true,
   "skip_h1_title": false,
   "title_cell": "Table of Contents",
   "title_sidebar": "Contents",
   "toc_cell": false,
   "toc_position": {},
   "toc_section_display": true,
   "toc_window_display": false
  },
  "varInspector": {
   "cols": {
    "lenName": 16,
    "lenType": 16,
    "lenVar": 40
   },
   "kernels_config": {
    "python": {
     "delete_cmd_postfix": "",
     "delete_cmd_prefix": "del ",
     "library": "var_list.py",
     "varRefreshCmd": "print(var_dic_list())"
    },
    "r": {
     "delete_cmd_postfix": ") ",
     "delete_cmd_prefix": "rm(",
     "library": "var_list.r",
     "varRefreshCmd": "cat(var_dic_list()) "
    }
   },
   "types_to_exclude": [
    "module",
    "function",
    "builtin_function_or_method",
    "instance",
    "_Feature"
   ],
   "window_display": false
  }
 },
 "nbformat": 4,
 "nbformat_minor": 2
}
