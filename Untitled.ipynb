{
 "cells": [
  {
   "cell_type": "code",
   "execution_count": 1,
   "metadata": {},
   "outputs": [],
   "source": [
    "import h5py\n",
    "import os\n",
    "import scipy.io\n",
    "import pandas as pd\n",
    "import numpy as np\n",
    "import matplotlib.pyplot as plt\n",
    "import seaborn as sns\n",
    "import glob, os\n",
    "import matplotlib.patches as patches\n",
    "sns.set_style('darkgrid')\n",
    "import pickle\n",
    "from matplotlib import gridspec\n",
    "from matplotlib.lines import Line2D\n",
    "%matplotlib inline\n",
    "%config InlineBackend.figure_format = 'svg'"
   ]
  },
  {
   "cell_type": "code",
   "execution_count": 2,
   "metadata": {},
   "outputs": [],
   "source": [
    "sns.set_context(\"poster\", rc={\"font.size\":18,\"axes.titlesize\":18,\"axes.labelsize\":18}) \n",
    "import matplotlib \n",
    "matplotlib.rc('xtick', labelsize=14) \n",
    "matplotlib.rc('ytick', labelsize=14) "
   ]
  },
  {
   "cell_type": "code",
   "execution_count": 3,
   "metadata": {},
   "outputs": [],
   "source": [
    "os.chdir('/Users/trongnguyen/Dropbox/FattyLiver/src/hydrogen/')\n",
    "from outlierDetection import getBSC_Att, envDetection, filter_BSC_based_on_depth, findOutliers, extract_segment_points\n",
    "from helper_brl import fattyLiver"
   ]
  },
  {
   "cell_type": "code",
   "execution_count": 4,
   "metadata": {},
   "outputs": [],
   "source": [
    "dataBase = fattyLiver.load_labels(threshold = 5)"
   ]
  },
  {
   "cell_type": "code",
   "execution_count": 5,
   "metadata": {},
   "outputs": [],
   "source": [
    "badRabbits = [731, 740, 747, 739, 730, 741, 750, 749, 748, 751, 756]\n",
    "for bad_rabbit in badRabbits:\n",
    "    dataBase = dataBase[dataBase.Rabbit != bad_rabbit]"
   ]
  },
  {
   "cell_type": "code",
   "execution_count": 6,
   "metadata": {},
   "outputs": [
    {
     "name": "stdout",
     "output_type": "stream",
     "text": [
      "734, 732, 735, 738, 729, 737, 736, 752, 746, 754, 745, 753, 743, 755, 757, 758, "
     ]
    }
   ],
   "source": [
    "ATTs_dict, freq_att_dict, freq_bsc_dict, depth_dict, BSCs_dict = {}, {}, {}, {}, {} \n",
    "left_dict, right_dict, top_dict, bottom_dict = {}, {}, {}, {} # ROIs of each BSC\n",
    "att_bottom, bad_BSC = {}, {}\n",
    "name_tag = 'fix_bug_SonixOne_average_ref_phantom'\n",
    "for index, row in dataBase.iterrows():\n",
    "    number = row.Rabbit\n",
    "    number = str(int(number))\n",
    "    print(number, end = ', ')\n",
    "    path = \"/Volumes/TrongDrive/Liver_Study/PostProcessedFiles/L\" + number + \"/L94_left/BSC_ATT/\"\n",
    "    ATTs_dict[number], freq_att_dict[number], BSCs_dict[number], freq_bsc_dict[number], \\\n",
    "    depth_dict[number], left_dict[number], right_dict[number], \\\n",
    "    top_dict[number], bottom_dict[number], att_bottom[number], bad_BSC[number] = getBSC_Att(path,name_tag)"
   ]
  },
  {
   "cell_type": "code",
   "execution_count": 9,
   "metadata": {},
   "outputs": [],
   "source": [
    "rf_path = '/Volumes/TrongDrive/Liver_Study/RF_hdf5/'\n",
    "hf = h5py.File(rf_path + number + '.h5', 'r')\n",
    "gp = hf.get('L94/Left')\n",
    "frameNumber = 10\n",
    "image = np.array(gp.get(str(frameNumber)))\n",
    "hf.close()\n",
    "\n",
    "fs = 40e6 * 1.0\n",
    "speedOfSound = 1540.0\n",
    "lateralDistance = 38\n",
    "lineLength  = image.shape[0]\n",
    "axialDistance = lineLength * speedOfSound/2 / fs * 1000\n",
    "extent = [0, lateralDistance, 0, axialDistance]"
   ]
  },
  {
   "cell_type": "code",
   "execution_count": null,
   "metadata": {},
   "outputs": [],
   "source": []
  }
 ],
 "metadata": {
  "kernelspec": {
   "display_name": "Python 3",
   "language": "python",
   "name": "python3"
  },
  "language_info": {
   "codemirror_mode": {
    "name": "ipython",
    "version": 3
   },
   "file_extension": ".py",
   "mimetype": "text/x-python",
   "name": "python",
   "nbconvert_exporter": "python",
   "pygments_lexer": "ipython3",
   "version": "3.6.5"
  }
 },
 "nbformat": 4,
 "nbformat_minor": 2
}
